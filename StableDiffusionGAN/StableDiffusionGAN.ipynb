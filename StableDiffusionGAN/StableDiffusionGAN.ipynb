{
  "nbformat": 4,
  "nbformat_minor": 0,
  "metadata": {
    "colab": {
      "provenance": [],
      "gpuType": "T4"
    },
    "kernelspec": {
      "name": "python3",
      "display_name": "Python 3"
    },
    "language_info": {
      "name": "python"
    },
    "accelerator": "GPU"
  },
  "cells": [
    {
      "cell_type": "code",
      "execution_count": null,
      "metadata": {
        "id": "eednHjdOkgAC"
      },
      "outputs": [],
      "source": [
        "#install appropriate libraries\n",
        "!pip install --upgrade diffusers[torch]\n",
        "!pip install transformers"
      ]
    },
    {
      "cell_type": "code",
      "source": [
        "from diffusers import DiffusionPipeline\n",
        "import torch\n",
        "\n",
        "#load the pipeline\n",
        "pipeline = DiffusionPipeline.from_pretrained(\"runwayml/stable-diffusion-v1-5\", torch_dtype=torch.float16)\n",
        "pipeline.to(\"cuda\")"
      ],
      "metadata": {
        "id": "A4r25wRLk5ph"
      },
      "execution_count": null,
      "outputs": []
    },
    {
      "cell_type": "code",
      "source": [
        "import matplotlib.pyplot as plt\n",
        "import random\n",
        "import os\n",
        "from io import BytesIO\n",
        "import base64\n",
        "\n",
        "#enter a prompt\n",
        "prompt = 'a highly detailed and realistic unicorn walking on a rainbow, fantasy art'\n",
        "negative_prompt = 'anime, cartoon, text'\n",
        "\n",
        "#generates the image\n",
        "img = pipeline(prompt, negative_prompt = negative_prompt).images[0]\n",
        "\n",
        "plt.imshow(img)\n",
        "plt.axis('off')\n",
        "plt.show()\n",
        "\n",
        "\n"
      ],
      "metadata": {
        "id": "o4tKrOYzlCaN"
      },
      "execution_count": null,
      "outputs": []
    },
    {
      "cell_type": "code",
      "source": [
        "buffer = BytesIO() #creates in-memory byte stream buffer\n",
        "img.save(buffer, format='JPEG') #saves generated image to the in-memory buffer\n",
        "buffer.seek(0) #reset the buffer's current position to the beginning of the stream"
      ],
      "metadata": {
        "id": "lUIjyqKIIRlb"
      },
      "execution_count": null,
      "outputs": []
    },
    {
      "cell_type": "code",
      "source": [
        "base64_image = base64.b64encode(buffer.getvalue()).decode() #encode contents of the buffer as a base64 string"
      ],
      "metadata": {
        "id": "G-0zHhgGKda0"
      },
      "execution_count": null,
      "outputs": []
    },
    {
      "cell_type": "code",
      "source": [
        "from IPython.display import HTML\n",
        "HTML('<a href=\"data:image/jpeg;base64,' + base64_image + '\" download=\"generated_image.jpeg\">Download JPEG</a>')\n",
        "#creates an HTML anchor tag for downloading the base64 encoded image"
      ],
      "metadata": {
        "id": "JOh2XXxbIYxo"
      },
      "execution_count": null,
      "outputs": []
    }
  ]
}