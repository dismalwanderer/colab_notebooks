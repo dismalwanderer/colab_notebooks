{
  "nbformat": 4,
  "nbformat_minor": 0,
  "metadata": {
    "colab": {
      "provenance": [],
      "gpuType": "T4"
    },
    "kernelspec": {
      "name": "python3",
      "display_name": "Python 3"
    },
    "language_info": {
      "name": "python"
    },
    "accelerator": "GPU"
  },
  "cells": [
    {
      "cell_type": "code",
      "execution_count": null,
      "metadata": {
        "id": "R8iCZMK5m0Sx"
      },
      "outputs": [],
      "source": [
        "#install appropriate libraries\n",
        "!pip install --upgrade diffusers[torch]\n",
        "!pip install transformers\n",
        "!pip install huggingface-hub\n",
        "!pip install torch --upgrade"
      ]
    },
    {
      "cell_type": "code",
      "source": [
        "from huggingface_hub import notebook_login\n",
        "\n",
        "#enter token from huggingface to log in\n",
        "notebook_login()"
      ],
      "metadata": {
        "id": "2qxDQHZ4GACh"
      },
      "execution_count": null,
      "outputs": []
    },
    {
      "cell_type": "code",
      "source": [
        "from torch import autocast\n",
        "from diffusers import StableDiffusionPipeline\n",
        "import torch\n",
        "import matplotlib.pyplot as plt\n",
        "from PIL import Image\n",
        "import ipywidgets as widgets\n",
        "from IPython.display import display, HTML\n",
        "import base64\n",
        "from io import BytesIO\n",
        "\n",
        "#load the pipeline\n",
        "pipe = StableDiffusionPipeline.from_pretrained(\n",
        "    \"CompVis/stable-diffusion-v1-4\",\n",
        "    torch_dtype=torch.float16\n",
        ").to(\"cuda\")\n",
        "\n",
        "#enter a prompt\n",
        "prompt = \"happy kitten playing with a toy\"\n",
        "negative_prompt = \"anime, cartoon, text\"\n",
        "\n",
        "#generates the image with autocast\n",
        "with autocast(\"cuda\"):\n",
        "    output = pipe(prompt, negative_prompt=negative_prompt, guidance_scale=7.5, num_inference_steps=50)\n",
        "\n",
        "image = output['images'][0]\n",
        "\n",
        "plt.imshow(image)\n",
        "plt.axis('off')\n",
        "plt.show()\n",
        "\n",
        "#saves image and creates a downloadable link\n",
        "def save_and_download_image(image):\n",
        "    #saves image to BytesIO buffer as JPEG\n",
        "    buffer = BytesIO()\n",
        "    image.save(buffer, format='JPEG')\n",
        "    buffer.seek(0)\n",
        "\n",
        "    #encodes image buffer to base64\n",
        "    base64_image = base64.b64encode(buffer.getvalue()).decode()\n",
        "\n",
        "    #downloadable link\n",
        "    download_html = f'<a href=\"data:image/jpeg;base64,{base64_image}\" download=\"generated_image.jpg\">Download JPEG</a>'\n",
        "    display(HTML(download_html))\n",
        "\n",
        "save_and_download_image(image)\n"
      ],
      "metadata": {
        "id": "o4tKrOYzlCaN"
      },
      "execution_count": null,
      "outputs": []
    }
  ]
}